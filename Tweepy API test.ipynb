{
 "cells": [
  {
   "cell_type": "code",
   "execution_count": 1,
   "id": "f0b90292",
   "metadata": {},
   "outputs": [],
   "source": [
    "import tweepy\n",
    "import pandas as pd\n",
    "import os\n",
    "import datetime\n",
    "import json"
   ]
  },
  {
   "cell_type": "code",
   "execution_count": 2,
   "id": "ca3f45dc",
   "metadata": {},
   "outputs": [],
   "source": [
    "tweepy_bearer_token = os.environ.get(\"TWEEPY_BEARER_TOKEN\")\n",
    "client = tweepy.Client(tweepy_bearer_token,return_type = dict)"
   ]
  },
  {
   "cell_type": "code",
   "execution_count": 9,
   "id": "d18a174a",
   "metadata": {},
   "outputs": [],
   "source": [
    "# target_fields = []\n",
    "# target_user_fields = []\n",
    "expansions = ['author_id']"
   ]
  },
  {
   "cell_type": "code",
   "execution_count": 10,
   "id": "1666d39d",
   "metadata": {},
   "outputs": [],
   "source": [
    "keyword = 'layoff'\n",
    "today = datetime.datetime.today()\n",
    "yesterday = datetime.datetime.today() - datetime.timedelta(days = 1)\n",
    "query = \"layoff -is:retweet -is:reply lang:EN\"\n",
    "\n",
    "results = []\n",
    "tweets = client.search_recent_tweets(query=query,start_time = yesterday,expansions=expansions, end_time = today,max_results=10)\n"
   ]
  },
  {
   "cell_type": "code",
   "execution_count": 12,
   "id": "0346a0dc",
   "metadata": {},
   "outputs": [
    {
     "data": {
      "text/plain": [
       "{'users': [{'id': '391120799', 'name': 'Shani', 'username': 'Head2Toe621'},\n",
       "  {'id': '1385516052256276480', 'name': 'Rick McBray', 'username': 'RMcbray'},\n",
       "  {'id': '1587093073892458496',\n",
       "   'name': 'Bob Ketterer',\n",
       "   'username': 'KettererBob'},\n",
       "  {'id': '34713362', 'name': 'Bloomberg', 'username': 'business'},\n",
       "  {'id': '94391895', 'name': 'Here & Now', 'username': 'hereandnow'},\n",
       "  {'id': '335303345',\n",
       "   'name': 'EIN Presswire: Intl Employment Newswire',\n",
       "   'username': 'EINEmployment'},\n",
       "  {'id': '1258628769826377732',\n",
       "   'name': 'Troller Anna',\n",
       "   'username': 'AnnaTroller'},\n",
       "  {'id': '1320142328795987968',\n",
       "   'name': '喜马拉雅华盛顿DC2',\n",
       "   'username': 'Dc235284371Dc2'},\n",
       "  {'id': '727849590859411460',\n",
       "   'name': 'The Staggie Man',\n",
       "   'username': 'thestaggieman'},\n",
       "  {'id': '1588697175877361664',\n",
       "   'name': 'Garibaldi Red Report',\n",
       "   'username': 'ReportGaribaldi'}]}"
      ]
     },
     "execution_count": 12,
     "metadata": {},
     "output_type": "execute_result"
    }
   ],
   "source": [
    "tweets['includes']"
   ]
  },
  {
   "cell_type": "code",
   "execution_count": 14,
   "id": "80c8fb10",
   "metadata": {},
   "outputs": [
    {
     "data": {
      "text/plain": [
       "[{'author_id': '391120799',\n",
       "  'id': '1624443247648034821',\n",
       "  'edit_history_tweet_ids': ['1624443247648034821'],\n",
       "  'text': 'I need to layoff whatever tf I been eating cuz these sweats are squeezing me today 😣😢'},\n",
       " {'author_id': '1385516052256276480',\n",
       "  'id': '1624440843418619906',\n",
       "  'edit_history_tweet_ids': ['1624440843418619906'],\n",
       "  'text': 'San Francisco Adds Barricades to Curb Sex Work in Mission District - NBC Bay Area\\n\\nTrending I-680 Closure **Work From Home** Gary Payton II SF Injection Sites Help Earthquake Victims Discover Black Heritage Layoff Tracker.\\nhttps://t.co/nUu37KKa71'},\n",
       " {'author_id': '1587093073892458496',\n",
       "  'id': '1624440762741166080',\n",
       "  'edit_history_tweet_ids': ['1624440762741166080'],\n",
       "  'text': 'Aggressive action, upskilling and developing and engaging a professional network is the best way to face layoff fear or being forced to move on. Next, develop a plan B and build a substantial nest egg. https://t.co/AbxKWbCrix'},\n",
       " {'author_id': '34713362',\n",
       "  'id': '1624438628259692546',\n",
       "  'edit_history_tweet_ids': ['1624438628259692546'],\n",
       "  'text': 'Some recently fired workers are loving their layoff https://t.co/eEf3DXwk6n'},\n",
       " {'author_id': '94391895',\n",
       "  'id': '1624438611541377026',\n",
       "  'edit_history_tweet_ids': ['1624438611541377026'],\n",
       "  'text': 'If you get laid off, insurance should be a main priority, says @jillonmoney.\\n\\nFind our what happens to your health insurance, life insurance and other benefits your employer provided. \\nhttps://t.co/c71WilxDcI'},\n",
       " {'author_id': '335303345',\n",
       "  'id': '1624438261048393731',\n",
       "  'edit_history_tweet_ids': ['1624438261048393731'],\n",
       "  'text': 'Amid Layoff Season, Over 1 Lakh Employees Lose Job In 2023: Check Company-Wise List https://t.co/w3fFEvIYTn'},\n",
       " {'author_id': '1258628769826377732',\n",
       "  'id': '1624436044035936256',\n",
       "  'edit_history_tweet_ids': ['1624436044035936256'],\n",
       "  'text': 'Disney is about to layoff around 7,000 employees even after no surge in number of subscribers, what does this mean???\\n#Disney #Hotstar'},\n",
       " {'author_id': '1320142328795987968',\n",
       "  'id': '1624434278397255683',\n",
       "  'edit_history_tweet_ids': ['1624434278397255683'],\n",
       "  'text': '2023 Layoff Tracker: News Corp To Slash 1,250\\n\\nhttps://t.co/943ICNiRIY'},\n",
       " {'author_id': '727849590859411460',\n",
       "  'id': '1624431804525473794',\n",
       "  'edit_history_tweet_ids': ['1624431804525473794'],\n",
       "  'text': \"GP Race 8\\n\\n4-Eamonn (4/1) @zayas_edgardo  Aboard, one run type off the layoff, should be sitting mid pack and look to get the jump on the 6 before that horses sweeps up on the grandstand. 2 Maker's Juice in here. \\n\\n 4-6-5-3\"},\n",
       " {'author_id': '1588697175877361664',\n",
       "  'id': '1624429915272609796',\n",
       "  'edit_history_tweet_ids': ['1624429915272609796'],\n",
       "  'text': 'Scarpa sends Chris Wood’s layoff over the bar\\n\\n⚽️ 1-0 // 25’ ⏱️\\n\\n#NFFC | #EPL | ⚪️🌳'}]"
      ]
     },
     "execution_count": 14,
     "metadata": {},
     "output_type": "execute_result"
    }
   ],
   "source": [
    "tweets['data']"
   ]
  },
  {
   "cell_type": "code",
   "execution_count": null,
   "id": "c72c22a3",
   "metadata": {},
   "outputs": [],
   "source": []
  }
 ],
 "metadata": {
  "kernelspec": {
   "display_name": "Python 3 (ipykernel)",
   "language": "python",
   "name": "python3"
  },
  "language_info": {
   "codemirror_mode": {
    "name": "ipython",
    "version": 3
   },
   "file_extension": ".py",
   "mimetype": "text/x-python",
   "name": "python",
   "nbconvert_exporter": "python",
   "pygments_lexer": "ipython3",
   "version": "3.10.9"
  }
 },
 "nbformat": 4,
 "nbformat_minor": 5
}
