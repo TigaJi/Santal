{
 "cells": [
  {
   "cell_type": "code",
   "execution_count": 1,
   "id": "4d731bb3",
   "metadata": {},
   "outputs": [],
   "source": [
    "import psycopg2\n",
    "import os\n",
    "import sys\n",
    "import pandas as pd\n",
    "import pandas.io.sql as sqlio\n",
    "import datetime\n",
    "sys.path.append(os.path.dirname(os.getcwd()))\n",
    "import matplotlib.pyplot as plt"
   ]
  },
  {
   "cell_type": "code",
   "execution_count": 2,
   "id": "d0d78298",
   "metadata": {},
   "outputs": [],
   "source": [
    "from pipeline import populate_dwh"
   ]
  },
  {
   "cell_type": "markdown",
   "id": "69f5e49e",
   "metadata": {},
   "source": [
    "## Search \"ChatGPT\" tweets pulished on yesterday"
   ]
  },
  {
   "cell_type": "code",
   "execution_count": 3,
   "id": "18090a74",
   "metadata": {},
   "outputs": [],
   "source": [
    "redshift = {'DWH_DB_USER':os.environ['DWH_DB_USER'],\n",
    "    'DWH_DB_PASSWORD':os.environ['DWH_DB_PASSWORD'],\n",
    "    'DWH_ENDPOINT':os.environ['DWH_ENDPOINT'],\n",
    "    'DWH_PORT':'5439',\n",
    "    'DWH_DB':'dev',\n",
    "    'DWH_IAM_ROLE': os.environ['DWH_IAM_ROLE']}"
   ]
  },
  {
   "cell_type": "code",
   "execution_count": 4,
   "id": "a9bde7b3",
   "metadata": {},
   "outputs": [
    {
     "name": "stdout",
     "output_type": "stream",
     "text": [
      "Requesting page# 1 ...\n",
      "Requesting page# 2 ...\n",
      "Requesting page# 3 ...\n",
      "Requesting page# 4 ...\n",
      "Requesting page# 5 ...\n",
      "Requesting page# 6 ...\n",
      "Requesting page# 7 ...\n",
      "Requesting page# 8 ...\n",
      "Requesting page# 9 ...\n",
      "Requesting page# 10 ...\n",
      "Requesting page# 11 ...\n",
      "Requesting page# 12 ...\n",
      "Requesting page# 13 ...\n",
      "Requesting page# 14 ...\n",
      "Requesting page# 15 ...\n",
      "Requesting page# 16 ...\n",
      "Requesting page# 17 ...\n",
      "Requesting page# 18 ...\n",
      "Requesting page# 19 ...\n",
      "Requesting page# 20 ...\n",
      "Requesting page# 21 ...\n",
      "Requesting page# 22 ...\n",
      "Requesting page# 23 ...\n",
      "Requesting page# 24 ...\n",
      "Requesting page# 25 ...\n",
      "Requesting page# 26 ...\n",
      "Requesting page# 27 ...\n",
      "Requesting page# 28 ...\n",
      "Requesting page# 29 ...\n",
      "Requesting page# 30 ...\n",
      "Requesting page# 31 ...\n",
      "Requesting page# 32 ...\n",
      "Requesting page# 33 ...\n",
      "Requesting page# 34 ...\n",
      "Requesting page# 35 ...\n",
      "Requesting page# 36 ...\n",
      "Requesting page# 37 ...\n",
      "Requesting page# 38 ...\n",
      "Requesting page# 39 ...\n",
      "Requesting page# 40 ...\n",
      "Requesting page# 41 ...\n",
      "Requesting page# 42 ...\n",
      "Requesting page# 43 ...\n",
      "Requesting page# 44 ...\n",
      "Requesting page# 45 ...\n",
      "Requesting page# 46 ...\n",
      "Requesting page# 47 ...\n",
      "Requesting page# 48 ...\n",
      "Requesting page# 49 ...\n",
      "Requesting page# 50 ...\n",
      "Finished Requesting data, total Results:  4977\n",
      "Finshied uploading to S3.\n",
      "finished staging to redshift\n",
      "loading fact table...\n",
      "updating dimention tables...\n",
      "finished populating data warehouse\n"
     ]
    }
   ],
   "source": [
    "date = datetime.datetime.today() - datetime.timedelta(days = 2)\n",
    "keyword = 'ChatGPT'\n",
    "populate_dwh(keyword,date,max_page = 50)"
   ]
  },
  {
   "cell_type": "markdown",
   "id": "e74b0c33",
   "metadata": {},
   "source": [
    "## Check load results"
   ]
  },
  {
   "cell_type": "code",
   "execution_count": 5,
   "id": "10f16030",
   "metadata": {},
   "outputs": [],
   "source": [
    "conn_string = \"postgresql://{}:{}@{}:{}/{}\".format(redshift['DWH_DB_USER'], redshift['DWH_DB_PASSWORD'], redshift['DWH_ENDPOINT'], redshift['DWH_PORT'],redshift['DWH_DB'])\n",
    "con = psycopg2.connect(conn_string)"
   ]
  },
  {
   "cell_type": "code",
   "execution_count": 6,
   "id": "265c8eca",
   "metadata": {},
   "outputs": [
    {
     "name": "stderr",
     "output_type": "stream",
     "text": [
      "/var/folders/th/flmj2p9x5s12x8nk19d3zbwr0000gn/T/ipykernel_27098/4265129869.py:1: UserWarning: pandas only supports SQLAlchemy connectable (engine/connection) or database string URI or sqlite3 DBAPI2 connection. Other DBAPI2 objects are not tested. Please consider using SQLAlchemy.\n",
      "  tweet_cnt = sqlio.read_sql_query(f\"select distinct keyword_date, count(1) from mapping_table group by keyword_date\", con)\n"
     ]
    },
    {
     "data": {
      "text/html": [
       "<div>\n",
       "<style scoped>\n",
       "    .dataframe tbody tr th:only-of-type {\n",
       "        vertical-align: middle;\n",
       "    }\n",
       "\n",
       "    .dataframe tbody tr th {\n",
       "        vertical-align: top;\n",
       "    }\n",
       "\n",
       "    .dataframe thead th {\n",
       "        text-align: right;\n",
       "    }\n",
       "</style>\n",
       "<table border=\"1\" class=\"dataframe\">\n",
       "  <thead>\n",
       "    <tr style=\"text-align: right;\">\n",
       "      <th></th>\n",
       "      <th>keyword_date</th>\n",
       "      <th>count</th>\n",
       "    </tr>\n",
       "  </thead>\n",
       "  <tbody>\n",
       "    <tr>\n",
       "      <th>0</th>\n",
       "      <td>ChatGPT_2023-02-20</td>\n",
       "      <td>1672</td>\n",
       "    </tr>\n",
       "    <tr>\n",
       "      <th>1</th>\n",
       "      <td>ChatGPT_2023-02-19</td>\n",
       "      <td>3805</td>\n",
       "    </tr>\n",
       "  </tbody>\n",
       "</table>\n",
       "</div>"
      ],
      "text/plain": [
       "         keyword_date  count\n",
       "0  ChatGPT_2023-02-20   1672\n",
       "1  ChatGPT_2023-02-19   3805"
      ]
     },
     "execution_count": 6,
     "metadata": {},
     "output_type": "execute_result"
    }
   ],
   "source": [
    "tweet_cnt = sqlio.read_sql_query(f\"select distinct keyword_date, count(1) from mapping_table group by keyword_date\", con)\n",
    "tweet_cnt"
   ]
  },
  {
   "cell_type": "markdown",
   "id": "21aa215f",
   "metadata": {},
   "source": [
    "## Get corresponding from facts table"
   ]
  },
  {
   "cell_type": "code",
   "execution_count": 10,
   "id": "5fb34385",
   "metadata": {},
   "outputs": [
    {
     "name": "stderr",
     "output_type": "stream",
     "text": [
      "/var/folders/th/flmj2p9x5s12x8nk19d3zbwr0000gn/T/ipykernel_27098/2574014961.py:9: UserWarning: pandas only supports SQLAlchemy connectable (engine/connection) or database string URI or sqlite3 DBAPI2 connection. Other DBAPI2 objects are not tested. Please consider using SQLAlchemy.\n",
      "  fact_tweets = sqlio.read_sql_query(query, con)\n"
     ]
    },
    {
     "data": {
      "text/html": [
       "<div>\n",
       "<style scoped>\n",
       "    .dataframe tbody tr th:only-of-type {\n",
       "        vertical-align: middle;\n",
       "    }\n",
       "\n",
       "    .dataframe tbody tr th {\n",
       "        vertical-align: top;\n",
       "    }\n",
       "\n",
       "    .dataframe thead th {\n",
       "        text-align: right;\n",
       "    }\n",
       "</style>\n",
       "<table border=\"1\" class=\"dataframe\">\n",
       "  <thead>\n",
       "    <tr style=\"text-align: right;\">\n",
       "      <th></th>\n",
       "      <th>tweet_id</th>\n",
       "      <th>possibly_sensitive</th>\n",
       "      <th>dt</th>\n",
       "      <th>geo_id</th>\n",
       "      <th>user_id</th>\n",
       "      <th>is_edited</th>\n",
       "      <th>text</th>\n",
       "      <th>retweet_cnt</th>\n",
       "      <th>reply_cnt</th>\n",
       "      <th>like_cnt</th>\n",
       "      <th>quote_cnt</th>\n",
       "      <th>impression_cnt</th>\n",
       "      <th>tweet_id</th>\n",
       "    </tr>\n",
       "  </thead>\n",
       "  <tbody>\n",
       "    <tr>\n",
       "      <th>0</th>\n",
       "      <td>1627492796465651712</td>\n",
       "      <td>False</td>\n",
       "      <td>2023-02-20 02:18:14</td>\n",
       "      <td>None</td>\n",
       "      <td>410864661</td>\n",
       "      <td>False</td>\n",
       "      <td>Are shiba inu whales , ethereum and Bitcoin wh...</td>\n",
       "      <td>0</td>\n",
       "      <td>0</td>\n",
       "      <td>0</td>\n",
       "      <td>0</td>\n",
       "      <td>0</td>\n",
       "      <td>1627492796465651712</td>\n",
       "    </tr>\n",
       "    <tr>\n",
       "      <th>1</th>\n",
       "      <td>1627492684108800002</td>\n",
       "      <td>False</td>\n",
       "      <td>2023-02-20 02:17:47</td>\n",
       "      <td>None</td>\n",
       "      <td>17241531</td>\n",
       "      <td>False</td>\n",
       "      <td>These out of control Bing / ChatGPT conversati...</td>\n",
       "      <td>0</td>\n",
       "      <td>0</td>\n",
       "      <td>0</td>\n",
       "      <td>0</td>\n",
       "      <td>5</td>\n",
       "      <td>1627492684108800002</td>\n",
       "    </tr>\n",
       "    <tr>\n",
       "      <th>2</th>\n",
       "      <td>1627492621210755073</td>\n",
       "      <td>False</td>\n",
       "      <td>2023-02-20 02:17:32</td>\n",
       "      <td>None</td>\n",
       "      <td>410864661</td>\n",
       "      <td>False</td>\n",
       "      <td>Are shiba inu whales , ethereum and Bitcoin wh...</td>\n",
       "      <td>0</td>\n",
       "      <td>0</td>\n",
       "      <td>0</td>\n",
       "      <td>0</td>\n",
       "      <td>2</td>\n",
       "      <td>1627492621210755073</td>\n",
       "    </tr>\n",
       "    <tr>\n",
       "      <th>3</th>\n",
       "      <td>1627492506358226944</td>\n",
       "      <td>False</td>\n",
       "      <td>2023-02-20 02:17:05</td>\n",
       "      <td>None</td>\n",
       "      <td>972416712082571264</td>\n",
       "      <td>False</td>\n",
       "      <td>https://t.co/wL0RJ5du0b\\n\\nWhile there is no d...</td>\n",
       "      <td>0</td>\n",
       "      <td>0</td>\n",
       "      <td>0</td>\n",
       "      <td>0</td>\n",
       "      <td>4</td>\n",
       "      <td>1627492506358226944</td>\n",
       "    </tr>\n",
       "    <tr>\n",
       "      <th>4</th>\n",
       "      <td>1627492504785539074</td>\n",
       "      <td>False</td>\n",
       "      <td>2023-02-20 02:17:05</td>\n",
       "      <td>None</td>\n",
       "      <td>1618849917400924161</td>\n",
       "      <td>False</td>\n",
       "      <td>Experience Intelligent Illumination with AI Sm...</td>\n",
       "      <td>0</td>\n",
       "      <td>0</td>\n",
       "      <td>0</td>\n",
       "      <td>0</td>\n",
       "      <td>6</td>\n",
       "      <td>1627492504785539074</td>\n",
       "    </tr>\n",
       "  </tbody>\n",
       "</table>\n",
       "</div>"
      ],
      "text/plain": [
       "              tweet_id  possibly_sensitive                  dt geo_id  \\\n",
       "0  1627492796465651712               False 2023-02-20 02:18:14   None   \n",
       "1  1627492684108800002               False 2023-02-20 02:17:47   None   \n",
       "2  1627492621210755073               False 2023-02-20 02:17:32   None   \n",
       "3  1627492506358226944               False 2023-02-20 02:17:05   None   \n",
       "4  1627492504785539074               False 2023-02-20 02:17:05   None   \n",
       "\n",
       "               user_id  is_edited  \\\n",
       "0            410864661      False   \n",
       "1             17241531      False   \n",
       "2            410864661      False   \n",
       "3   972416712082571264      False   \n",
       "4  1618849917400924161      False   \n",
       "\n",
       "                                                text  retweet_cnt  reply_cnt  \\\n",
       "0  Are shiba inu whales , ethereum and Bitcoin wh...            0          0   \n",
       "1  These out of control Bing / ChatGPT conversati...            0          0   \n",
       "2  Are shiba inu whales , ethereum and Bitcoin wh...            0          0   \n",
       "3  https://t.co/wL0RJ5du0b\\n\\nWhile there is no d...            0          0   \n",
       "4  Experience Intelligent Illumination with AI Sm...            0          0   \n",
       "\n",
       "   like_cnt  quote_cnt  impression_cnt             tweet_id  \n",
       "0         0          0               0  1627492796465651712  \n",
       "1         0          0               5  1627492684108800002  \n",
       "2         0          0               2  1627492621210755073  \n",
       "3         0          0               4  1627492506358226944  \n",
       "4         0          0               6  1627492504785539074  "
      ]
     },
     "execution_count": 10,
     "metadata": {},
     "output_type": "execute_result"
    }
   ],
   "source": [
    "#fact table\n",
    "query = f'''\n",
    "SELECT * FROM fact_tweets t1\n",
    "join (\n",
    "select tweet_id from mapping_table where keyword_date = 'ChatGPT_2023-02-20' or keyword_date = 'ChatGPT_2023-02-19' GROUP BY tweet_id\n",
    ") t2\n",
    "on t1.tweet_id = t2.tweet_id\n",
    "'''\n",
    "fact_tweets = sqlio.read_sql_query(query, con)\n",
    "fact_tweets.head()"
   ]
  },
  {
   "cell_type": "markdown",
   "id": "afdc6eee",
   "metadata": {},
   "source": [
    "## How many tweets are sensitive"
   ]
  },
  {
   "cell_type": "code",
   "execution_count": 11,
   "id": "61c6ed9e",
   "metadata": {},
   "outputs": [
    {
     "data": {
      "text/plain": [
       "False    4936\n",
       "True       42\n",
       "Name: possibly_sensitive, dtype: int64"
      ]
     },
     "execution_count": 11,
     "metadata": {},
     "output_type": "execute_result"
    }
   ],
   "source": [
    "fact_tweets.possibly_sensitive.value_counts()"
   ]
  },
  {
   "cell_type": "markdown",
   "id": "07eda073",
   "metadata": {},
   "source": [
    "## Most popular tweets"
   ]
  },
  {
   "cell_type": "code",
   "execution_count": 12,
   "id": "7cc89771",
   "metadata": {},
   "outputs": [
    {
     "data": {
      "text/html": [
       "<div>\n",
       "<style scoped>\n",
       "    .dataframe tbody tr th:only-of-type {\n",
       "        vertical-align: middle;\n",
       "    }\n",
       "\n",
       "    .dataframe tbody tr th {\n",
       "        vertical-align: top;\n",
       "    }\n",
       "\n",
       "    .dataframe thead th {\n",
       "        text-align: right;\n",
       "    }\n",
       "</style>\n",
       "<table border=\"1\" class=\"dataframe\">\n",
       "  <thead>\n",
       "    <tr style=\"text-align: right;\">\n",
       "      <th></th>\n",
       "      <th>tweet_id</th>\n",
       "      <th>possibly_sensitive</th>\n",
       "      <th>dt</th>\n",
       "      <th>geo_id</th>\n",
       "      <th>user_id</th>\n",
       "      <th>is_edited</th>\n",
       "      <th>text</th>\n",
       "      <th>retweet_cnt</th>\n",
       "      <th>reply_cnt</th>\n",
       "      <th>like_cnt</th>\n",
       "      <th>quote_cnt</th>\n",
       "      <th>impression_cnt</th>\n",
       "      <th>tweet_id</th>\n",
       "    </tr>\n",
       "  </thead>\n",
       "  <tbody>\n",
       "    <tr>\n",
       "      <th>2290</th>\n",
       "      <td>1627362654472871936</td>\n",
       "      <td>False</td>\n",
       "      <td>2023-02-19 17:41:06</td>\n",
       "      <td>None</td>\n",
       "      <td>807095</td>\n",
       "      <td>False</td>\n",
       "      <td>See why a very strange conversation with Micro...</td>\n",
       "      <td>49</td>\n",
       "      <td>60</td>\n",
       "      <td>222</td>\n",
       "      <td>25</td>\n",
       "      <td>318296</td>\n",
       "      <td>1627362654472871936</td>\n",
       "    </tr>\n",
       "    <tr>\n",
       "      <th>1136</th>\n",
       "      <td>1627428979333373955</td>\n",
       "      <td>False</td>\n",
       "      <td>2023-02-19 22:04:39</td>\n",
       "      <td>None</td>\n",
       "      <td>16076032</td>\n",
       "      <td>False</td>\n",
       "      <td>Oh, please leave it alone. It sounds so much b...</td>\n",
       "      <td>181</td>\n",
       "      <td>61</td>\n",
       "      <td>1581</td>\n",
       "      <td>5</td>\n",
       "      <td>297880</td>\n",
       "      <td>1627428979333373955</td>\n",
       "    </tr>\n",
       "    <tr>\n",
       "      <th>2144</th>\n",
       "      <td>1627371184894447616</td>\n",
       "      <td>False</td>\n",
       "      <td>2023-02-19 18:15:00</td>\n",
       "      <td>None</td>\n",
       "      <td>1652541</td>\n",
       "      <td>False</td>\n",
       "      <td>ICYMI: ChatGPT surpassed 100 million monthly a...</td>\n",
       "      <td>17</td>\n",
       "      <td>7</td>\n",
       "      <td>68</td>\n",
       "      <td>4</td>\n",
       "      <td>87173</td>\n",
       "      <td>1627371184894447616</td>\n",
       "    </tr>\n",
       "    <tr>\n",
       "      <th>4499</th>\n",
       "      <td>1627381343834501120</td>\n",
       "      <td>False</td>\n",
       "      <td>2023-02-19 18:55:22</td>\n",
       "      <td>None</td>\n",
       "      <td>816009850576519169</td>\n",
       "      <td>False</td>\n",
       "      <td>I fed years of Sneaker Twitter tweets to ChatG...</td>\n",
       "      <td>27</td>\n",
       "      <td>26</td>\n",
       "      <td>141</td>\n",
       "      <td>14</td>\n",
       "      <td>70172</td>\n",
       "      <td>1627381343834501120</td>\n",
       "    </tr>\n",
       "    <tr>\n",
       "      <th>3428</th>\n",
       "      <td>1627431582821670917</td>\n",
       "      <td>False</td>\n",
       "      <td>2023-02-19 22:15:00</td>\n",
       "      <td>None</td>\n",
       "      <td>1652541</td>\n",
       "      <td>False</td>\n",
       "      <td>ICYMI: ChatGPT is now the fastest-growing cons...</td>\n",
       "      <td>23</td>\n",
       "      <td>7</td>\n",
       "      <td>45</td>\n",
       "      <td>7</td>\n",
       "      <td>68937</td>\n",
       "      <td>1627431582821670917</td>\n",
       "    </tr>\n",
       "    <tr>\n",
       "      <th>2022</th>\n",
       "      <td>1627392146864222208</td>\n",
       "      <td>False</td>\n",
       "      <td>2023-02-19 19:38:17</td>\n",
       "      <td>None</td>\n",
       "      <td>1422036552922767363</td>\n",
       "      <td>False</td>\n",
       "      <td>On Feb 29, 2023, the market will crash. We wil...</td>\n",
       "      <td>6</td>\n",
       "      <td>86</td>\n",
       "      <td>247</td>\n",
       "      <td>2</td>\n",
       "      <td>67759</td>\n",
       "      <td>1627392146864222208</td>\n",
       "    </tr>\n",
       "    <tr>\n",
       "      <th>4818</th>\n",
       "      <td>1627363658333315073</td>\n",
       "      <td>False</td>\n",
       "      <td>2023-02-19 17:45:05</td>\n",
       "      <td>None</td>\n",
       "      <td>34713362</td>\n",
       "      <td>False</td>\n",
       "      <td>Right-wing commentators are recycling their ol...</td>\n",
       "      <td>13</td>\n",
       "      <td>38</td>\n",
       "      <td>33</td>\n",
       "      <td>3</td>\n",
       "      <td>67696</td>\n",
       "      <td>1627363658333315073</td>\n",
       "    </tr>\n",
       "    <tr>\n",
       "      <th>4229</th>\n",
       "      <td>1627383265068711936</td>\n",
       "      <td>False</td>\n",
       "      <td>2023-02-19 19:03:00</td>\n",
       "      <td>None</td>\n",
       "      <td>14293310</td>\n",
       "      <td>False</td>\n",
       "      <td>Here's how ChatGPT managed to grow faster than...</td>\n",
       "      <td>15</td>\n",
       "      <td>6</td>\n",
       "      <td>38</td>\n",
       "      <td>3</td>\n",
       "      <td>59371</td>\n",
       "      <td>1627383265068711936</td>\n",
       "    </tr>\n",
       "    <tr>\n",
       "      <th>4120</th>\n",
       "      <td>1627402681265405958</td>\n",
       "      <td>False</td>\n",
       "      <td>2023-02-19 20:20:09</td>\n",
       "      <td>None</td>\n",
       "      <td>786309892990574592</td>\n",
       "      <td>False</td>\n",
       "      <td>Me: “You won’t comment on the corruption of th...</td>\n",
       "      <td>90</td>\n",
       "      <td>24</td>\n",
       "      <td>426</td>\n",
       "      <td>3</td>\n",
       "      <td>54659</td>\n",
       "      <td>1627402681265405958</td>\n",
       "    </tr>\n",
       "    <tr>\n",
       "      <th>1945</th>\n",
       "      <td>1627383018456330242</td>\n",
       "      <td>False</td>\n",
       "      <td>2023-02-19 19:02:01</td>\n",
       "      <td>None</td>\n",
       "      <td>14173315</td>\n",
       "      <td>False</td>\n",
       "      <td>Nearly 4 in 10 Americans said they were more c...</td>\n",
       "      <td>15</td>\n",
       "      <td>34</td>\n",
       "      <td>56</td>\n",
       "      <td>5</td>\n",
       "      <td>52008</td>\n",
       "      <td>1627383018456330242</td>\n",
       "    </tr>\n",
       "  </tbody>\n",
       "</table>\n",
       "</div>"
      ],
      "text/plain": [
       "                 tweet_id  possibly_sensitive                  dt geo_id  \\\n",
       "2290  1627362654472871936               False 2023-02-19 17:41:06   None   \n",
       "1136  1627428979333373955               False 2023-02-19 22:04:39   None   \n",
       "2144  1627371184894447616               False 2023-02-19 18:15:00   None   \n",
       "4499  1627381343834501120               False 2023-02-19 18:55:22   None   \n",
       "3428  1627431582821670917               False 2023-02-19 22:15:00   None   \n",
       "2022  1627392146864222208               False 2023-02-19 19:38:17   None   \n",
       "4818  1627363658333315073               False 2023-02-19 17:45:05   None   \n",
       "4229  1627383265068711936               False 2023-02-19 19:03:00   None   \n",
       "4120  1627402681265405958               False 2023-02-19 20:20:09   None   \n",
       "1945  1627383018456330242               False 2023-02-19 19:02:01   None   \n",
       "\n",
       "                  user_id  is_edited  \\\n",
       "2290               807095      False   \n",
       "1136             16076032      False   \n",
       "2144              1652541      False   \n",
       "4499   816009850576519169      False   \n",
       "3428              1652541      False   \n",
       "2022  1422036552922767363      False   \n",
       "4818             34713362      False   \n",
       "4229             14293310      False   \n",
       "4120   786309892990574592      False   \n",
       "1945             14173315      False   \n",
       "\n",
       "                                                   text  retweet_cnt  \\\n",
       "2290  See why a very strange conversation with Micro...           49   \n",
       "1136  Oh, please leave it alone. It sounds so much b...          181   \n",
       "2144  ICYMI: ChatGPT surpassed 100 million monthly a...           17   \n",
       "4499  I fed years of Sneaker Twitter tweets to ChatG...           27   \n",
       "3428  ICYMI: ChatGPT is now the fastest-growing cons...           23   \n",
       "2022  On Feb 29, 2023, the market will crash. We wil...            6   \n",
       "4818  Right-wing commentators are recycling their ol...           13   \n",
       "4229  Here's how ChatGPT managed to grow faster than...           15   \n",
       "4120  Me: “You won’t comment on the corruption of th...           90   \n",
       "1945  Nearly 4 in 10 Americans said they were more c...           15   \n",
       "\n",
       "      reply_cnt  like_cnt  quote_cnt  impression_cnt             tweet_id  \n",
       "2290         60       222         25          318296  1627362654472871936  \n",
       "1136         61      1581          5          297880  1627428979333373955  \n",
       "2144          7        68          4           87173  1627371184894447616  \n",
       "4499         26       141         14           70172  1627381343834501120  \n",
       "3428          7        45          7           68937  1627431582821670917  \n",
       "2022         86       247          2           67759  1627392146864222208  \n",
       "4818         38        33          3           67696  1627363658333315073  \n",
       "4229          6        38          3           59371  1627383265068711936  \n",
       "4120         24       426          3           54659  1627402681265405958  \n",
       "1945         34        56          5           52008  1627383018456330242  "
      ]
     },
     "execution_count": 12,
     "metadata": {},
     "output_type": "execute_result"
    }
   ],
   "source": [
    "fact_tweets.sort_values(by = 'impression_cnt', ascending = False).head(10)"
   ]
  },
  {
   "cell_type": "markdown",
   "id": "6f4894a7",
   "metadata": {},
   "source": [
    "## Distribution of impression count"
   ]
  },
  {
   "cell_type": "code",
   "execution_count": 13,
   "id": "0951bc21",
   "metadata": {},
   "outputs": [
    {
     "data": {
      "text/plain": [
       "(array([2.757e+03, 7.310e+02, 3.510e+02, 1.820e+02, 1.290e+02, 9.700e+01,\n",
       "        6.800e+01, 4.700e+01, 4.600e+01, 2.900e+01, 3.000e+01, 2.200e+01,\n",
       "        1.900e+01, 2.900e+01, 1.500e+01, 9.000e+00, 1.400e+01, 1.300e+01,\n",
       "        8.000e+00, 1.500e+01, 1.300e+01, 1.200e+01, 9.000e+00, 1.000e+01,\n",
       "        1.200e+01, 1.200e+01, 9.000e+00, 9.000e+00, 5.000e+00, 9.000e+00,\n",
       "        7.000e+00, 5.000e+00, 1.200e+01, 7.000e+00, 4.000e+00, 6.000e+00,\n",
       "        5.000e+00, 2.000e+00, 3.000e+00, 3.000e+00, 2.000e+00, 4.000e+00,\n",
       "        3.000e+00, 2.000e+00, 1.000e+00, 2.000e+00, 1.000e+00, 1.000e+00,\n",
       "        5.000e+00, 3.000e+00]),\n",
       " array([   0.  ,   39.18,   78.36,  117.54,  156.72,  195.9 ,  235.08,\n",
       "         274.26,  313.44,  352.62,  391.8 ,  430.98,  470.16,  509.34,\n",
       "         548.52,  587.7 ,  626.88,  666.06,  705.24,  744.42,  783.6 ,\n",
       "         822.78,  861.96,  901.14,  940.32,  979.5 , 1018.68, 1057.86,\n",
       "        1097.04, 1136.22, 1175.4 , 1214.58, 1253.76, 1292.94, 1332.12,\n",
       "        1371.3 , 1410.48, 1449.66, 1488.84, 1528.02, 1567.2 , 1606.38,\n",
       "        1645.56, 1684.74, 1723.92, 1763.1 , 1802.28, 1841.46, 1880.64,\n",
       "        1919.82, 1959.  ]),\n",
       " <BarContainer object of 50 artists>)"
      ]
     },
     "execution_count": 13,
     "metadata": {},
     "output_type": "execute_result"
    },
    {
     "data": {
      "image/png": "[encoded data removed]",
      "text/plain": [
       "<Figure size 640x480 with 1 Axes>"
      ]
     },
     "metadata": {},
     "output_type": "display_data"
    }
   ],
   "source": [
    "plt.hist(fact_tweets['impression_cnt'][fact_tweets['impression_cnt']<2000],bins = 50)"
   ]
  },
  {
   "cell_type": "markdown",
   "id": "2fd5e4d8",
   "metadata": {},
   "source": [
    "## Distribution of tweets length"
   ]
  },
  {
   "cell_type": "code",
   "execution_count": 14,
   "id": "b5d74158",
   "metadata": {},
   "outputs": [
    {
     "data": {
      "text/plain": [
       "(array([  6.,  18.,  14.,  44.,  62.,  95.,  88., 130., 151.,  97., 195.,\n",
       "        185., 182., 150., 182., 146., 153., 147., 121., 155., 111., 116.,\n",
       "         78., 100., 100., 125., 101.,  69.,  70.,  71.,  59.,  62., 145.,\n",
       "        148., 110., 105.,  96.,  85.,  64., 144., 157., 217.,  57.,  50.,\n",
       "        138.,  51.,   9.,   4.,  14.,   1.]),\n",
       " array([  8.  ,  14.56,  21.12,  27.68,  34.24,  40.8 ,  47.36,  53.92,\n",
       "         60.48,  67.04,  73.6 ,  80.16,  86.72,  93.28,  99.84, 106.4 ,\n",
       "        112.96, 119.52, 126.08, 132.64, 139.2 , 145.76, 152.32, 158.88,\n",
       "        165.44, 172.  , 178.56, 185.12, 191.68, 198.24, 204.8 , 211.36,\n",
       "        217.92, 224.48, 231.04, 237.6 , 244.16, 250.72, 257.28, 263.84,\n",
       "        270.4 , 276.96, 283.52, 290.08, 296.64, 303.2 , 309.76, 316.32,\n",
       "        322.88, 329.44, 336.  ]),\n",
       " <BarContainer object of 50 artists>)"
      ]
     },
     "execution_count": 14,
     "metadata": {},
     "output_type": "execute_result"
    },
    {
     "data": {
      "image/png": "[encoded data removed]",
      "text/plain": [
       "<Figure size 640x480 with 1 Axes>"
      ]
     },
     "metadata": {},
     "output_type": "display_data"
    }
   ],
   "source": [
    "fact_tweets['len'] = fact_tweets['text'].str.len()\n",
    "plt.hist(fact_tweets['len'],bins = 50)"
   ]
  },
  {
   "cell_type": "markdown",
   "id": "e80b0549",
   "metadata": {},
   "source": [
    "## User_locations"
   ]
  },
  {
   "cell_type": "code",
   "execution_count": 15,
   "id": "3d31680a",
   "metadata": {},
   "outputs": [
    {
     "name": "stderr",
     "output_type": "stream",
     "text": [
      "/var/folders/th/flmj2p9x5s12x8nk19d3zbwr0000gn/T/ipykernel_27098/696295492.py:7: UserWarning: pandas only supports SQLAlchemy connectable (engine/connection) or database string URI or sqlite3 DBAPI2 connection. Other DBAPI2 objects are not tested. Please consider using SQLAlchemy.\n",
      "  location_cnt = sqlio.read_sql_query(query, con)\n"
     ]
    },
    {
     "data": {
      "text/html": [
       "<div>\n",
       "<style scoped>\n",
       "    .dataframe tbody tr th:only-of-type {\n",
       "        vertical-align: middle;\n",
       "    }\n",
       "\n",
       "    .dataframe tbody tr th {\n",
       "        vertical-align: top;\n",
       "    }\n",
       "\n",
       "    .dataframe thead th {\n",
       "        text-align: right;\n",
       "    }\n",
       "</style>\n",
       "<table border=\"1\" class=\"dataframe\">\n",
       "  <thead>\n",
       "    <tr style=\"text-align: right;\">\n",
       "      <th></th>\n",
       "      <th>user_location</th>\n",
       "      <th>cnt</th>\n",
       "    </tr>\n",
       "  </thead>\n",
       "  <tbody>\n",
       "    <tr>\n",
       "      <th>832</th>\n",
       "      <td>None</td>\n",
       "      <td>3399</td>\n",
       "    </tr>\n",
       "    <tr>\n",
       "      <th>941</th>\n",
       "      <td>Ajmer, India</td>\n",
       "      <td>100</td>\n",
       "    </tr>\n",
       "    <tr>\n",
       "      <th>876</th>\n",
       "      <td>United States</td>\n",
       "      <td>86</td>\n",
       "    </tr>\n",
       "    <tr>\n",
       "      <th>842</th>\n",
       "      <td>Camp Hill, PA</td>\n",
       "      <td>63</td>\n",
       "    </tr>\n",
       "    <tr>\n",
       "      <th>191</th>\n",
       "      <td>Campinas, SP, Brazil</td>\n",
       "      <td>49</td>\n",
       "    </tr>\n",
       "    <tr>\n",
       "      <th>951</th>\n",
       "      <td>India</td>\n",
       "      <td>48</td>\n",
       "    </tr>\n",
       "    <tr>\n",
       "      <th>48</th>\n",
       "      <td>UK</td>\n",
       "      <td>47</td>\n",
       "    </tr>\n",
       "    <tr>\n",
       "      <th>871</th>\n",
       "      <td>Universe</td>\n",
       "      <td>42</td>\n",
       "    </tr>\n",
       "    <tr>\n",
       "      <th>21</th>\n",
       "      <td>Everywhere</td>\n",
       "      <td>40</td>\n",
       "    </tr>\n",
       "    <tr>\n",
       "      <th>829</th>\n",
       "      <td>United Kingdom</td>\n",
       "      <td>38</td>\n",
       "    </tr>\n",
       "  </tbody>\n",
       "</table>\n",
       "</div>"
      ],
      "text/plain": [
       "            user_location   cnt\n",
       "832                  None  3399\n",
       "941          Ajmer, India   100\n",
       "876         United States    86\n",
       "842         Camp Hill, PA    63\n",
       "191  Campinas, SP, Brazil    49\n",
       "951                 India    48\n",
       "48                     UK    47\n",
       "871              Universe    42\n",
       "21             Everywhere    40\n",
       "829        United Kingdom    38"
      ]
     },
     "execution_count": 15,
     "metadata": {},
     "output_type": "execute_result"
    }
   ],
   "source": [
    "query = '''\n",
    "SELECT t2.user_location,count(t1.tweet_id) as cnt\n",
    "from fact_tweets t1\n",
    "join dim_users t2 on t1.user_id = t2.user_id\n",
    "group by t2.user_location\n",
    "'''\n",
    "location_cnt = sqlio.read_sql_query(query, con)\n",
    "location_cnt.sort_values(by = 'cnt', ascending = False).head(10)"
   ]
  },
  {
   "cell_type": "markdown",
   "id": "0aa4a0d3",
   "metadata": {},
   "source": [
    "## Sentiment Analysis"
   ]
  },
  {
   "cell_type": "code",
   "execution_count": 16,
   "id": "05eb0bd3",
   "metadata": {},
   "outputs": [],
   "source": [
    "from nltk.sentiment import SentimentIntensityAnalyzer\n",
    "sia = SentimentIntensityAnalyzer()\n",
    "fact_tweets['pos_score'] = fact_tweets['text'].apply(lambda x: sia.polarity_scores(x)['pos'])\n",
    "fact_tweets['neg_score'] = fact_tweets['text'].apply(lambda x: sia.polarity_scores(x)['neg'])"
   ]
  },
  {
   "cell_type": "code",
   "execution_count": 17,
   "id": "5a7bfc33",
   "metadata": {},
   "outputs": [
    {
     "data": {
      "text/plain": [
       "(array([3.45e+03, 1.90e+01, 8.40e+01, 1.58e+02, 1.27e+02, 1.12e+02,\n",
       "        1.19e+02, 9.20e+01, 1.29e+02, 7.90e+01, 8.40e+01, 8.80e+01,\n",
       "        6.00e+01, 6.10e+01, 6.80e+01, 4.10e+01, 3.10e+01, 2.40e+01,\n",
       "        1.90e+01, 2.40e+01, 1.00e+01, 1.70e+01, 8.00e+00, 1.20e+01,\n",
       "        7.00e+00, 4.00e+00, 7.00e+00, 9.00e+00, 1.00e+00, 3.00e+00,\n",
       "        4.00e+00, 7.00e+00, 5.00e+00, 4.00e+00, 2.00e+00, 1.00e+00,\n",
       "        2.00e+00, 0.00e+00, 1.00e+00, 0.00e+00, 0.00e+00, 1.00e+00,\n",
       "        1.00e+00, 1.00e+00, 0.00e+00, 1.00e+00, 0.00e+00, 0.00e+00,\n",
       "        0.00e+00, 1.00e+00]),\n",
       " array([0.     , 0.01546, 0.03092, 0.04638, 0.06184, 0.0773 , 0.09276,\n",
       "        0.10822, 0.12368, 0.13914, 0.1546 , 0.17006, 0.18552, 0.20098,\n",
       "        0.21644, 0.2319 , 0.24736, 0.26282, 0.27828, 0.29374, 0.3092 ,\n",
       "        0.32466, 0.34012, 0.35558, 0.37104, 0.3865 , 0.40196, 0.41742,\n",
       "        0.43288, 0.44834, 0.4638 , 0.47926, 0.49472, 0.51018, 0.52564,\n",
       "        0.5411 , 0.55656, 0.57202, 0.58748, 0.60294, 0.6184 , 0.63386,\n",
       "        0.64932, 0.66478, 0.68024, 0.6957 , 0.71116, 0.72662, 0.74208,\n",
       "        0.75754, 0.773  ]),\n",
       " <BarContainer object of 50 artists>)"
      ]
     },
     "execution_count": 17,
     "metadata": {},
     "output_type": "execute_result"
    },
    {
     "data": {
      "image/png": "[encoded data removed]",
      "text/plain": [
       "<Figure size 640x480 with 1 Axes>"
      ]
     },
     "metadata": {},
     "output_type": "display_data"
    }
   ],
   "source": [
    "plt.hist(fact_tweets['neg_score'],bins = 50)"
   ]
  },
  {
   "cell_type": "code",
   "execution_count": 18,
   "id": "12198b35",
   "metadata": {},
   "outputs": [
    {
     "data": {
      "text/plain": [
       "(array([2.114e+03, 1.700e+01, 8.900e+01, 1.990e+02, 2.660e+02, 2.700e+02,\n",
       "        2.120e+02, 2.410e+02, 2.830e+02, 1.850e+02, 1.620e+02, 1.540e+02,\n",
       "        1.090e+02, 9.600e+01, 9.400e+01, 8.000e+01, 5.900e+01, 5.400e+01,\n",
       "        8.800e+01, 3.500e+01, 4.200e+01, 2.300e+01, 1.600e+01, 2.200e+01,\n",
       "        1.100e+01, 1.100e+01, 8.000e+00, 7.000e+00, 4.000e+00, 1.000e+00,\n",
       "        3.000e+00, 3.000e+00, 4.000e+00, 1.000e+00, 2.000e+00, 3.000e+00,\n",
       "        4.000e+00, 1.000e+00, 1.000e+00, 1.000e+00, 0.000e+00, 0.000e+00,\n",
       "        0.000e+00, 0.000e+00, 0.000e+00, 1.000e+00, 1.000e+00, 0.000e+00,\n",
       "        0.000e+00, 1.000e+00]),\n",
       " array([0.     , 0.01788, 0.03576, 0.05364, 0.07152, 0.0894 , 0.10728,\n",
       "        0.12516, 0.14304, 0.16092, 0.1788 , 0.19668, 0.21456, 0.23244,\n",
       "        0.25032, 0.2682 , 0.28608, 0.30396, 0.32184, 0.33972, 0.3576 ,\n",
       "        0.37548, 0.39336, 0.41124, 0.42912, 0.447  , 0.46488, 0.48276,\n",
       "        0.50064, 0.51852, 0.5364 , 0.55428, 0.57216, 0.59004, 0.60792,\n",
       "        0.6258 , 0.64368, 0.66156, 0.67944, 0.69732, 0.7152 , 0.73308,\n",
       "        0.75096, 0.76884, 0.78672, 0.8046 , 0.82248, 0.84036, 0.85824,\n",
       "        0.87612, 0.894  ]),\n",
       " <BarContainer object of 50 artists>)"
      ]
     },
     "execution_count": 18,
     "metadata": {},
     "output_type": "execute_result"
    },
    {
     "data": {
      "image/png": "[encoded data removed]",
      "text/plain": [
       "<Figure size 640x480 with 1 Axes>"
      ]
     },
     "metadata": {},
     "output_type": "display_data"
    }
   ],
   "source": [
    "plt.hist(fact_tweets['pos_score'],bins = 50)"
   ]
  },
  {
   "cell_type": "code",
   "execution_count": null,
   "id": "3e810c72",
   "metadata": {},
   "outputs": [],
   "source": []
  }
 ],
 "metadata": {
  "kernelspec": {
   "display_name": "Python 3 (ipykernel)",
   "language": "python",
   "name": "python3"
  },
  "language_info": {
   "codemirror_mode": {
    "name": "ipython",
    "version": 3
   },
   "file_extension": ".py",
   "mimetype": "text/x-python",
   "name": "python",
   "nbconvert_exporter": "python",
   "pygments_lexer": "ipython3",
   "version": "3.10.9"
  }
 },
 "nbformat": 4,
 "nbformat_minor": 5
}
