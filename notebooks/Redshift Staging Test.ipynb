{
 "cells": [
  {
   "cell_type": "code",
   "execution_count": 88,
   "id": "3e409f6f",
   "metadata": {},
   "outputs": [],
   "source": [
    "def copy_to_redshift(cursor,item,keyword,date,table,dwh_iam_role):\n",
    "    qry = f'''\n",
    "      TRUNCATE {table};\n",
    "      copy {table} from 's3://santal/{item}/{keyword}/{date}.json'\n",
    "      credentials '{dwh_iam_role}'\n",
    "      format as json 'auto'\n",
    "    '''\n",
    "    \n",
    "    cursor.execute(qry)"
   ]
  },
  {
   "cell_type": "code",
   "execution_count": 108,
   "id": "e5694dce",
   "metadata": {},
   "outputs": [],
   "source": [
    "def staging_all_tables(keyword,date,redshift):\n",
    "    conn_string = \"postgresql://{}:{}@{}:{}/{}\".format(redshift['DWH_DB_USER'], redshift['DWH_DB_PASSWORD'], redshift['DWH_ENDPOINT'], redshift['DWH_PORT'],redshift['DWH_DB'])\n",
    "    con = psycopg2.connect(conn_string)\n",
    "    cur = con.cursor()\n",
    "    \n",
    "    copy_to_redshift(cur,'tweets',keyword,date,'staging_tweets',redshift['DWH_IAM_ROLE'])\n",
    "    copy_to_redshift(cur,'users',keyword,date,'staging_users',redshift['DWH_IAM_ROLE'])\n",
    "    copy_to_redshift(cur,'places',keyword,date,'staging_places',redshift['DWH_IAM_ROLE'])\n",
    "    \n",
    "    print(\"finished staging to redshift\")\n",
    "    "
   ]
  },
  {
   "cell_type": "code",
   "execution_count": null,
   "id": "1463ed24",
   "metadata": {},
   "outputs": [],
   "source": []
  }
 ],
 "metadata": {
  "kernelspec": {
   "display_name": "Santal",
   "language": "python",
   "name": "python3"
  },
  "language_info": {
   "codemirror_mode": {
    "name": "ipython",
    "version": 3
   },
   "file_extension": ".py",
   "mimetype": "text/x-python",
   "name": "python",
   "nbconvert_exporter": "python",
   "pygments_lexer": "ipython3",
   "version": "3.10.9 (main, Jan 11 2023, 09:18:20) [Clang 14.0.6 ]"
  },
  "vscode": {
   "interpreter": {
    "hash": "4ee7c15b9ff99be532ffd98de2b3040f8e468955ccf96ead0bdcd6d4e39c8fe3"
   }
  }
 },
 "nbformat": 4,
 "nbformat_minor": 5
}
